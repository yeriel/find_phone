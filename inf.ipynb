{
 "cells": [
  {
   "cell_type": "code",
   "execution_count": 29,
   "metadata": {},
   "outputs": [
    {
     "data": {
      "text/plain": [
       "tensor([0.0729, 1.0000])"
      ]
     },
     "execution_count": 29,
     "metadata": {},
     "output_type": "execute_result"
    }
   ],
   "source": [
    "import cv2\n",
    "import torch\n",
    "import torchvision.transforms as transforms\n",
    "from utils.models.model import NET\n",
    "\n",
    "# Supongamos que tienes una imagen llamada 'imagen.jpg'\n",
    "ruta_imagen = 'find_phone_data/test/0.jpg'\n",
    "\n",
    "# Lee la imagen con OpenCV\n",
    "imagen_opencv = cv2.imread(ruta_imagen)\n",
    "\n",
    "# Convierte la imagen a RGB (si es BGR)\n",
    "imagen_opencv = cv2.cvtColor(imagen_opencv, cv2.COLOR_BGR2RGB)\n",
    "\n",
    "# Realiza cualquier preprocesamiento adicional necesario\n",
    "# Puedes ajustar esto según los requisitos específicos de tu modelo\n",
    "transform = transforms.Compose([\n",
    "    transforms.ToPILImage(),\n",
    "    transforms.Resize((320, 480)),\n",
    "    transforms.ToTensor(),\n",
    "    # Puedes agregar más transformaciones según sea necesario\n",
    "])\n",
    "\n",
    "# Aplica las transformaciones a la imagen\n",
    "imagen_tensor = transform(imagen_opencv).unsqueeze(0)  # Agrega la dimensión del lote\n",
    "\n",
    "# Crea y carga el modelo\n",
    "net = NET(channels_in=3, channels=32, num_classes=2)\n",
    "net.load_state_dict(torch.load('weights/model_epoch_9.pth'))\n",
    "net.eval()\n",
    "\n",
    "# Realiza la inferencia\n",
    "with torch.no_grad():\n",
    "    output = net(imagen_tensor)\n",
    "\n",
    "output\n"
   ]
  },
  {
   "cell_type": "code",
   "execution_count": 30,
   "metadata": {},
   "outputs": [],
   "source": [
    "h,w,_ = imagen_opencv.shape\n",
    "xscale, yscale = 480/w, 320/h"
   ]
  },
  {
   "cell_type": "code",
   "execution_count": 31,
   "metadata": {},
   "outputs": [
    {
     "data": {
      "text/plain": [
       "array([0.0729132, 1.       ], dtype=float32)"
      ]
     },
     "execution_count": 31,
     "metadata": {},
     "output_type": "execute_result"
    }
   ],
   "source": [
    "o = output.numpy()\n",
    "o"
   ]
  },
  {
   "cell_type": "code",
   "execution_count": 32,
   "metadata": {},
   "outputs": [
    {
     "name": "stdout",
     "output_type": "stream",
     "text": [
      "0.07443222465614478 1.01875\n"
     ]
    }
   ],
   "source": [
    "x, y = o[0]/xscale, o[1]/yscale\n",
    "print(x,y)"
   ]
  },
  {
   "cell_type": "code",
   "execution_count": 28,
   "metadata": {},
   "outputs": [],
   "source": [
    "# 0.8306 0.1350"
   ]
  },
  {
   "cell_type": "code",
   "execution_count": null,
   "metadata": {},
   "outputs": [],
   "source": []
  }
 ],
 "metadata": {
  "kernelspec": {
   "display_name": "env",
   "language": "python",
   "name": "python3"
  },
  "language_info": {
   "codemirror_mode": {
    "name": "ipython",
    "version": 3
   },
   "file_extension": ".py",
   "mimetype": "text/x-python",
   "name": "python",
   "nbconvert_exporter": "python",
   "pygments_lexer": "ipython3",
   "version": "3.10.12"
  }
 },
 "nbformat": 4,
 "nbformat_minor": 2
}
